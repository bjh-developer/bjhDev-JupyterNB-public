{
 "cells": [
  {
   "cell_type": "code",
   "execution_count": null,
   "metadata": {},
   "outputs": [],
   "source": [
    "#Math Collatz cojecture machine by Joon Hao, built in Visual Studio Code, with python 3\n",
    "\n",
    "\n",
    "\n",
    "#formula: even / 2,  odd * 3 + 1\n",
    "\n",
    "#import\n",
    "import time, random\n",
    "\n",
    "\n",
    "#intro\n",
    "print(\"Welcome to math collatz conjecture machine!\")\n",
    "print()\n",
    "print()\n",
    "time.sleep(3)\n",
    "\n",
    "\n",
    "#instructions\n",
    "print(\"Instruction:\\n1. You are to input any number and wait for the result!\")\n",
    "print()\n",
    "print()\n",
    "time.sleep(3)\n",
    "\n",
    "\n",
    "\n",
    "#start\n",
    "l = input(\"Enter a number: \")\n",
    "l = int(l)\n",
    "i = [l]\n",
    "def collatz(n):\n",
    "    print(i)\n",
    "    if n==1:\n",
    "        return i\n",
    "    if n%2 == 0:\n",
    "        n = n/2\n",
    "        i.append(n)\n",
    "        return collatz(n)\n",
    "    else:\n",
    "        n = ((n*3) + 1)\n",
    "        i.append(n)\n",
    "        return collatz(n)\n",
    "collatz(l)\n"
   ]
  }
 ],
 "metadata": {
  "kernelspec": {
   "display_name": "Python 3",
   "language": "python",
   "name": "python3"
  },
  "language_info": {
   "codemirror_mode": {
    "name": "ipython",
    "version": 3
   },
   "file_extension": ".py",
   "mimetype": "text/x-python",
   "name": "python",
   "nbconvert_exporter": "python",
   "pygments_lexer": "ipython3",
   "version": "3.7.4"
  }
 },
 "nbformat": 4,
 "nbformat_minor": 2
}
