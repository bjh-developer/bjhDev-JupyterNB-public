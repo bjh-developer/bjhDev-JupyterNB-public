{
 "cells": [
  {
   "cell_type": "code",
   "execution_count": null,
   "metadata": {},
   "outputs": [],
   "source": [
    "#Rolling dice simulator by Joon Hao, built in Visual Studio Code, with Python 3\n",
    "\n",
    "#import\n",
    "import time, random\n",
    "\n",
    "#Intro\n",
    "print(\"Welcome to rolling dice simulator!\")\n",
    "print()\n",
    "print()\n",
    "time.sleep(3)\n",
    "\n",
    "\n",
    "#rollling dice\n",
    "user_dice_yn = input(\"Would you like to roll the dice? \")\n",
    "\n",
    "if user_dice_yn == \"yes\" or user_dice_yn == \"Yes\" or user_dice_yn == \"y\" or user_dice_yn == \"Y\":\n",
    "    print()\n",
    "    print(\"Rolling the dice!\")\n",
    "    print()\n",
    "    print()\n",
    "    dice_1 = random.randint(1, 6)\n",
    "    dice_2 = random.randint(1, 6)\n",
    "    print(\"Dice 1: \" + str(dice_1))\n",
    "    print(\"Dice 2: \" + str(dice_2))\n",
    "elif user_dice_yn == \"no\" or user_dice_yn == \"No\" or user_dice_yn == \"n\" or user_dice_yn == \"N\":\n",
    "    print()\n",
    "    print(\"Ok, seems like I am not going to roll the dice...\")\n",
    "else:\n",
    "    print(\"Please re-run the programme and reply the question with yes or no\")\n",
    "\n",
    "\n",
    "print(\"Thank you for using this programme\")\n",
    "print(\"Created by Joon Hao, built in Visual Studio Code, with Python 3\")\n"
   ]
  }
 ],
 "metadata": {
  "kernelspec": {
   "display_name": "Python 3",
   "language": "python",
   "name": "python3"
  },
  "language_info": {
   "codemirror_mode": {
    "name": "ipython",
    "version": 3
   },
   "file_extension": ".py",
   "mimetype": "text/x-python",
   "name": "python",
   "nbconvert_exporter": "python",
   "pygments_lexer": "ipython3",
   "version": "3.7.4"
  }
 },
 "nbformat": 4,
 "nbformat_minor": 2
}
