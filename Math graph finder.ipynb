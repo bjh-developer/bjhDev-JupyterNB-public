{
 "cells": [
  {
   "cell_type": "markdown",
   "metadata": {},
   "source": [
    "# Please do not run this code\n",
    "\n",
    "This code is kinda messed up and not working... please do not run it. Don't run it!"
   ]
  },
  {
   "cell_type": "code",
   "execution_count": 1,
   "metadata": {
    "scrolled": true
   },
   "outputs": [
    {
     "name": "stdout",
     "output_type": "stream",
     "text": [
      "Welcome to math graph finder!\n",
      "\n",
      "\n",
      "Enter 'one line' or '1' to find a one line graph\n",
      "\n",
      "Enter 'two lines' or '2' to find a two lines graph\n",
      "\n",
      "Enter 'quit' to exit programme\n",
      ":1\n",
      "First point: 2\n",
      "Second point: 6\n",
      "Third point: 4\n",
      "Name your graph: t\n"
     ]
    },
    {
     "data": {
      "image/png": "[encoded data removed]",
      "text/plain": [
       "<Figure size 432x288 with 1 Axes>"
      ]
     },
     "metadata": {
      "needs_background": "light"
     },
     "output_type": "display_data"
    },
    {
     "name": "stdout",
     "output_type": "stream",
     "text": [
      "Enter 'one line' or '1' to find a one line graph\n",
      "\n",
      "Enter 'two lines' or '2' to find a two lines graph\n",
      "\n",
      "Enter 'quit' to exit programme\n",
      ":1\n",
      "First point: 2\n",
      "Second point: 7\n",
      "Third point: 4\n",
      "Name your graph: t\n"
     ]
    },
    {
     "data": {
      "image/png": "[encoded data removed]",
      "text/plain": [
       "<Figure size 432x288 with 1 Axes>"
      ]
     },
     "metadata": {
      "needs_background": "light"
     },
     "output_type": "display_data"
    },
    {
     "name": "stdout",
     "output_type": "stream",
     "text": [
      "Enter 'one line' or '1' to find a one line graph\n",
      "\n",
      "Enter 'two lines' or '2' to find a two lines graph\n",
      "\n",
      "Enter 'quit' to exit programme\n",
      ":1\n",
      "First point: 2\n",
      "Second point: 4\n",
      "Third point: 8\n",
      "Name your graph: t\n"
     ]
    },
    {
     "data": {
      "image/png": "[encoded data removed]",
      "text/plain": [
       "<Figure size 432x288 with 1 Axes>"
      ]
     },
     "metadata": {
      "needs_background": "light"
     },
     "output_type": "display_data"
    },
    {
     "name": "stdout",
     "output_type": "stream",
     "text": [
      "Enter 'one line' or '1' to find a one line graph\n",
      "\n",
      "Enter 'two lines' or '2' to find a two lines graph\n",
      "\n",
      "Enter 'quit' to exit programme\n",
      ":quit\n",
      "Shutting programme...\n",
      "Good bye!\n"
     ]
    }
   ],
   "source": [
    "#math graph finder created by bjh-developer, in Jupyter notebook, with Python 3\n",
    "\n",
    "\n",
    "from matplotlib import pyplot as plt\n",
    "import numpy as np\n",
    "\n",
    "\n",
    "print(\"Welcome to math graph finder!\")\n",
    "print()\n",
    "print()\n",
    "\n",
    "while True:\n",
    "    \n",
    "    print(\"Enter 'one line' or '1' to find a one line graph\")\n",
    "    print()\n",
    "    print(\"Enter 'two lines' or '2' to find a two lines graph\")\n",
    "    print()\n",
    "    print(\"Enter 'quit' to exit programme\")\n",
    "    user_choice = input(\":\")\n",
    "\n",
    "    if user_choice == \"one line\" or user_choice == \"One line\" or user_choice == \"1\":\n",
    "        point_1 = input(\"First point: \")\n",
    "        point_2 = input(\"Second point: \")\n",
    "        point_3 = input(\"Third point: \")\n",
    "\n",
    "        # x axis values \n",
    "        x = [point_1,point_2,point_3] \n",
    "        # corresponding y axis values \n",
    "        y = [point_1,point_2,point_3] \n",
    "\n",
    "        # plotting the points  \n",
    "        plt.plot(x, y) \n",
    "\n",
    "        # naming the x axis \n",
    "        plt.xlabel('x - axis') \n",
    "        # naming the y axis \n",
    "        plt.ylabel('y - axis') \n",
    "\n",
    "        user_title = input(\"Name your graph: \")\n",
    "        # giving a title to the graph \n",
    "        plt.title(user_title) \n",
    "\n",
    "        # function to show the plot \n",
    "        plt.show() \n",
    "\n",
    "    elif user_choice == \"two line\" or user_choice == \"Two line\" or user_choice == \"2\":\n",
    "        point_1_1 = input(\"First point of line 1: \")\n",
    "        point_2_1 = input(\"Second point of line 1: \")\n",
    "        point_3_1 = input(\"Third point of line 1: \")\n",
    "        print()\n",
    "        point_1_2 = input(\"First point of line 2: \")\n",
    "        point_2_2 = input(\"Second point of line 2: \")\n",
    "        point_3_2 = input(\"Third point of line 2: \")\n",
    "        \n",
    "        # line 1 points \n",
    "        x1 = [point_1_1,point_2_1,point_3_1] \n",
    "        y1 = [point_1_1,point_2_1,point_3_1] \n",
    "        # plotting the line 1 points  \n",
    "        plt.plot(x1, y1, label = \"line 1\") \n",
    "\n",
    "        # line 2 points \n",
    "        x2 = [point_1_2,point_2_2,point_3_2] \n",
    "        y2 = [point_1_2,point_2_2,point_3_2] \n",
    "        # plotting the line 2 points  \n",
    "        plt.plot(x2, y2, label = \"line 2\") \n",
    "\n",
    "        # naming the x axis \n",
    "        plt.xlabel('x - axis') \n",
    "        # naming the y axis \n",
    "        plt.ylabel('y - axis') \n",
    "        \n",
    "        \n",
    "        user_title = input(\"Name your graph: \")\n",
    "        # giving a title to the graph \n",
    "        plt.title(user_title) \n",
    "\n",
    "        # show a legend on the plot \n",
    "        plt.legend() \n",
    "\n",
    "        # function to show the plot \n",
    "        plt.show() \n",
    "        \n",
    "    elif user_choice == \"quit\" or user_choice == \"Quit\":\n",
    "        print(\"Shutting programme...\")\n",
    "        print(\"Good bye!\")\n",
    "        break\n",
    "        \n",
    "    else:\n",
    "        print(\"Unknown input, please try again\")\n",
    "        print()\n",
    "        print()"
   ]
  }
 ],
 "metadata": {
  "kernelspec": {
   "display_name": "Python 3",
   "language": "python",
   "name": "python3"
  },
  "language_info": {
   "codemirror_mode": {
    "name": "ipython",
    "version": 3
   },
   "file_extension": ".py",
   "mimetype": "text/x-python",
   "name": "python",
   "nbconvert_exporter": "python",
   "pygments_lexer": "ipython3",
   "version": "3.7.6"
  }
 },
 "nbformat": 4,
 "nbformat_minor": 4
}
