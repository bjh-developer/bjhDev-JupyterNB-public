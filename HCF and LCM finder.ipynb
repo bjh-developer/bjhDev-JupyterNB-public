{
 "cells": [
  {
   "cell_type": "markdown",
   "metadata": {},
   "source": [
    "# Want to find HCF or LCM without wacking your brain?\n",
    "\n",
    "Now you can by running this code! _only if we can use this in school..._"
   ]
  },
  {
   "cell_type": "code",
   "execution_count": 1,
   "metadata": {},
   "outputs": [
    {
     "name": "stdout",
     "output_type": "stream",
     "text": [
      "Welcome to HCF and LCM Finder developed by Joon Hao!\n",
      "\n",
      "Enter 'quit' to exit programme\n",
      "\n",
      "Would you like to find HCF or LCM?\n",
      ":hcf\n",
      "First number: 12\n",
      "Second number: 8\n",
      "The HCF is 4\n",
      "\n",
      "Enter 'quit' to exit programme\n",
      "\n",
      "Would you like to find HCF or LCM?\n",
      ":lcm\n",
      "First number: 12\n",
      "Second number: 8\n",
      "The LCM is 24\n",
      "\n",
      "Enter 'quit' to exit programme\n",
      "\n",
      "Would you like to find HCF or LCM?\n",
      ":quit\n",
      "Shutting down programme...\n",
      "Good bye!\n"
     ]
    }
   ],
   "source": [
    "#HCF and LCM finder created by bjh-developer, in Visual Studio Code with Python 3\n",
    "\n",
    "import time, random, math, cmath\n",
    "\n",
    "\n",
    "print(\"Welcome to HCF and LCM Finder developed by Joon Hao!\")\n",
    "time.sleep(2)\n",
    "\n",
    "while True:\n",
    "    print()\n",
    "    print(\"Enter 'quit' to exit programme\")\n",
    "    print()\n",
    "    print(\"Would you like to find HCF or LCM?\")\n",
    "    user_HCF_LCM = input(\":\")\n",
    "\n",
    "    if user_HCF_LCM == \"LCM\" or user_HCF_LCM == \"lcm\":\n",
    "        def compute_lcm(x, y):\n",
    "\n",
    "            if x > y:\n",
    "                greater = x\n",
    "            else:\n",
    "                greater = y\n",
    "\n",
    "            while True:\n",
    "                if((int(greater) % int(x) == 0) and (int(greater) % int(y) == 0)):\n",
    "                    lcm = greater\n",
    "                    break\n",
    "                greater += 1\n",
    "\n",
    "            return lcm\n",
    "\n",
    "        num1 = input(\"First number: \")\n",
    "        num2 = input(\"Second number: \")\n",
    "\n",
    "        lcm = compute_lcm(int(num1), int(num2))\n",
    "        print(\"The LCM is \" + str(lcm))\n",
    "\n",
    "    elif user_HCF_LCM == \"HCF\" or user_HCF_LCM == \"hcf\":\n",
    "        def compute_hcf(x, y):\n",
    "            while(y):\n",
    "                x, y = y, x % y\n",
    "            return x\n",
    "\n",
    "        num1 = input(\"First number: \")\n",
    "        num2 = input(\"Second number: \")\n",
    "\n",
    "        hcf = compute_hcf(int(num1), int(num2))\n",
    "        print(\"The HCF is \" + str(hcf))\n",
    "\n",
    "    elif user_HCF_LCM == \"quit\" or user_HCF_LCM == \"Quit\":\n",
    "        print(\"Shutting down programme...\")\n",
    "        time.sleep(2)\n",
    "        print(\"Good bye!\")\n",
    "        break\n",
    "        \n",
    "    else:\n",
    "        print(\"Unknown input, please try again...\")"
   ]
  }
 ],
 "metadata": {
  "kernelspec": {
   "display_name": "Python 3",
   "language": "python",
   "name": "python3"
  },
  "language_info": {
   "codemirror_mode": {
    "name": "ipython",
    "version": 3
   },
   "file_extension": ".py",
   "mimetype": "text/x-python",
   "name": "python",
   "nbconvert_exporter": "python",
   "pygments_lexer": "ipython3",
   "version": "3.7.6"
  }
 },
 "nbformat": 4,
 "nbformat_minor": 2
}
