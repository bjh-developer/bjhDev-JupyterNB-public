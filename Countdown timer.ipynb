{
 "cells": [
  {
   "cell_type": "markdown",
   "metadata": {},
   "source": [
    "# Ever wanted to countdown to your most looked forward events?\n",
    "\n",
    "Run this code to set a countdown that you can track (most probably short timings for now lol)"
   ]
  },
  {
   "cell_type": "code",
   "execution_count": 1,
   "metadata": {},
   "outputs": [
    {
     "name": "stdout",
     "output_type": "stream",
     "text": [
      "Welcome to countdown timer!\n",
      "\n",
      "\n",
      "Enter 'quit' to exit programme\n",
      "Enter 'countdown' to start countdown from specified time\n",
      ":countdown timer\n",
      "Unknown input, please try again\n",
      "Enter 'quit' to exit programme\n",
      "Enter 'countdown' to start countdown from specified time\n",
      ":countdown\n",
      "Time(sec): 10\n",
      "Starting countdown\n",
      "\n",
      "10\n",
      "9\n",
      "8\n",
      "7\n",
      "6\n",
      "5\n",
      "4\n",
      "3\n",
      "2\n",
      "1\n",
      "0\n",
      "Time's UP!!!\n",
      "Enter 'quit' to exit programme\n",
      "Enter 'countdown' to start countdown from specified time\n",
      ":quit\n",
      "Closing programme...\n",
      "Good bye!\n"
     ]
    }
   ],
   "source": [
    "#countdown timer created by bjh-developer, in Visual Studio code with Python 3\n",
    "\n",
    "#import modules\n",
    "import time\n",
    "\n",
    "#intro\n",
    "print(\"Welcome to countdown timer!\")\n",
    "print()\n",
    "print()\n",
    "\n",
    "#start\n",
    "while True:\n",
    "    print(\"Enter 'quit' to exit programme\\nEnter 'countdown' to start countdown from specified time\")\n",
    "    user_choice = input(\":\")\n",
    "\n",
    "    #user's choice\n",
    "    if user_choice == \"quit\" or user_choice == \"Quit\":\n",
    "        print(\"Closing programme...\")\n",
    "        time.sleep(2)\n",
    "        print(\"Good bye!\")\n",
    "        break\n",
    "\n",
    "    elif user_choice == \"countdown\" or user_choice == \"Countdown\":\n",
    "        time_sec = input(\"Time(sec): \")\n",
    "        print(\"Starting countdown\")\n",
    "        print()\n",
    "        print(time_sec)\n",
    "\n",
    "        #negative not accepted message\n",
    "        if int(time_sec) < 0:\n",
    "                print(\"That's a negative! You can't turn back time!\\nTry again\")\n",
    "                print()\n",
    "                print()\n",
    "        else:\n",
    "            pass\n",
    "\n",
    "        #start countdown\n",
    "        while int(time_sec) > 0:\n",
    "            time_sec = int(time_sec) - 1\n",
    "            time.sleep(1)\n",
    "            print(time_sec)\n",
    "\n",
    "            #end message\n",
    "            if time_sec == 0:\n",
    "                print(\"Time's UP!!!\")\n",
    "            else:\n",
    "                pass\n",
    "            \n",
    "    #user error message\n",
    "    else:\n",
    "        print(\"Unknown input, please try again\")"
   ]
  }
 ],
 "metadata": {
  "kernelspec": {
   "display_name": "Python 3",
   "language": "python",
   "name": "python3"
  },
  "language_info": {
   "codemirror_mode": {
    "name": "ipython",
    "version": 3
   },
   "file_extension": ".py",
   "mimetype": "text/x-python",
   "name": "python",
   "nbconvert_exporter": "python",
   "pygments_lexer": "ipython3",
   "version": "3.7.6"
  }
 },
 "nbformat": 4,
 "nbformat_minor": 4
}
