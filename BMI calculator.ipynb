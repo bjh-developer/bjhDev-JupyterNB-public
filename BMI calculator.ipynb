{
 "cells": [
  {
   "cell_type": "markdown",
   "metadata": {},
   "source": [
    "# Ever wondered what your BMI is?\n",
    "\n",
    "Run this code and find if you are at risk of nutritional deficiency and osteoporosis!"
   ]
  },
  {
   "cell_type": "code",
   "execution_count": 1,
   "metadata": {},
   "outputs": [
    {
     "name": "stdout",
     "output_type": "stream",
     "text": [
      "What is your name: joon hao\n",
      "What is your weight(KG): 46.9\n",
      "What is your height(metre): 1.59\n",
      "BMI: \n",
      "18.551481349630155\n",
      "joon hao BMI is normal!\n"
     ]
    }
   ],
   "source": [
    "#BMI calculator created by bjh-developer, built in Visual Studio Code with Python 3\n",
    "\n",
    "import time\n",
    "\n",
    "\n",
    "#person's info\n",
    "user_name = input(\"What is your name: \")\n",
    "user_weight = input(\"What is your weight(KG): \")\n",
    "user_height = input(\"What is your height(metre): \")\n",
    "\n",
    "#calculator\n",
    "def bmi_calculator(name, weight, height):\n",
    "    bmi = weight / (height ** 2)\n",
    "    print(\"BMI: \")\n",
    "    print(bmi)\n",
    "    if bmi >= 18.5 and bmi < 23:\n",
    "        return name + \" BMI is normal!\"\n",
    "    elif bmi < 18.5:\n",
    "        return name + \" at low risk but increased risk of nutritional deficiency and osteoporosis!\"\n",
    "    else:\n",
    "        return name + \" is at high risk!\"\n",
    "\n",
    "result_1 = bmi_calculator(user_name, float(user_weight), float(user_height))\n",
    "print(str(result_1))"
   ]
  }
 ],
 "metadata": {
  "kernelspec": {
   "display_name": "Python 3",
   "language": "python",
   "name": "python3"
  },
  "language_info": {
   "codemirror_mode": {
    "name": "ipython",
    "version": 3
   },
   "file_extension": ".py",
   "mimetype": "text/x-python",
   "name": "python",
   "nbconvert_exporter": "python",
   "pygments_lexer": "ipython3",
   "version": "3.7.6"
  }
 },
 "nbformat": 4,
 "nbformat_minor": 2
}
