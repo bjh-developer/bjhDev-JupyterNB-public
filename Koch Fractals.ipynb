{
 "cells": [
  {
   "cell_type": "markdown",
   "metadata": {},
   "source": [
    "# Want to explode your mind?\n",
    "The world of fractals are large and if you dont know what is a fractal, well, it is a closed shape with infinite parameter."
   ]
  },
  {
   "cell_type": "code",
   "execution_count": 1,
   "metadata": {},
   "outputs": [],
   "source": [
    "#koch fractals drawing by bjh-developer, built in Visual Studio code, with python 3\n",
    "\n",
    "#import\n",
    "import turtle\n",
    "\n",
    "#init screen and pen\n",
    "window = turtle.Screen()\n",
    "kochi = turtle.Pen()\n",
    "kochi.speed(20)\n",
    "\n",
    "#ask user for number of orders\n",
    "order = int(window.textinput('Order', 'How many orders do you want to do for the fractal?'))\n",
    "\n",
    "#set up to draw one order\n",
    "def koch(order, size):\n",
    "    if order == 0:\n",
    "        kochi.forward(size)\n",
    "    elif order > 0:\n",
    "        koch(order - 1, size / 3)\n",
    "        kochi.left(60)\n",
    "        koch(order - 1, size / 3)\n",
    "        kochi.right(120)\n",
    "        koch(order - 1, size / 3)\n",
    "        kochi.left(60)\n",
    "        koch(order - 1, size / 3)\n",
    "\n",
    "#set up to draw multiple order with the one order\n",
    "def koch_snowflake(order, size):\n",
    "    if order == 0:\n",
    "        count = 0\n",
    "        while count < 3:\n",
    "            koch(order, size)\n",
    "            koch.forward(size)\n",
    "            koch.right(120)\n",
    "            count += 1\n",
    "    elif order > 0:\n",
    "        koch(order - 1, size / 3)\n",
    "        kochi.left(60)\n",
    "        koch(order - 1, size / 3)\n",
    "        kochi.right(120)\n",
    "        koch(order - 1, size / 3)\n",
    "        kochi.left(60)\n",
    "        koch(order - 1, size / 3)\n",
    "\n",
    "#call\n",
    "koch_snowflake(order, 300)\n",
    "\n",
    "\n",
    "#commands window to exit when clicked\n",
    "window.exitonclick()"
   ]
  }
 ],
 "metadata": {
  "kernelspec": {
   "display_name": "Python 3.8.2 64-bit",
   "language": "python",
   "name": "python38264bit942bce66318946fea8407afc78e845d3"
  },
  "language_info": {
   "codemirror_mode": {
    "name": "ipython",
    "version": 3
   },
   "file_extension": ".py",
   "mimetype": "text/x-python",
   "name": "python",
   "nbconvert_exporter": "python",
   "pygments_lexer": "ipython3",
   "version": "3.8.6"
  }
 },
 "nbformat": 4,
 "nbformat_minor": 4
}
